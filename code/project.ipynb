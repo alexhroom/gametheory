{
 "cells": [
  {
   "attachments": {},
   "cell_type": "markdown",
   "metadata": {},
   "source": [
    "# Trading Game tournament\n",
    "\n",
    "This notebook runs a tournament for an asymmetric trading game, using the Axelrod library.\n",
    "\n",
    "The game consists of two players, a trader $\\mathcal{T}$ and a regulator $\\mathcal{R}$. \n",
    "\n",
    "The trader can either do a regular trade, $\\mathcal{T}_r$ which has a small reward and no risk of being caught by the regulator, or an inside trade $\\mathcal{T}_I$ which has a much higher reward but, if caught by the regulator, will lead to harsh penalties.\n",
    "\n",
    "The regulator can choose not to regulate $\\mathcal{R}_n$, which has a small benefit if no inside trading takes place (as they're doing their job properly) and a penalty if inside trading is taking place (as inside trading has been detected, but they don't know who's doing it!). Or, they can regulate $\\mathcal{R}_r$, which has a financial cost if done when unnecessary, but a reward if they catch an inside trader."
   ]
  },
  {
   "cell_type": "code",
   "execution_count": null,
   "metadata": {},
   "outputs": [],
   "source": [
    "import axelrod as axl\n",
    "\n",
    "# local files\n",
    "import trade_tournament as tt\n",
    "import trade_strategy as ts"
   ]
  },
  {
   "attachments": {},
   "cell_type": "markdown",
   "metadata": {},
   "source": [
    "In this cell, input trading strategies into the `traders` list, and regulation strategies into the `regulators` list. Some of these are from the Axelrod library, and others are from the file trade_strategy.py in this folder."
   ]
  },
  {
   "cell_type": "code",
   "execution_count": null,
   "metadata": {},
   "outputs": [],
   "source": [
    "traders = [axl.Cooperator(), axl.TitFor2Tats(), ts.Careful(), axl.Random(0.75)]\n",
    "regulators = [ts.SuspiciousForgiving(), ts.SuspiciousGrudge(), axl.Random(0.5), axl.FirstByJoss()]"
   ]
  },
  {
   "attachments": {},
   "cell_type": "markdown",
   "metadata": {},
   "source": [
    "Finally, run this block to run the tournament."
   ]
  },
  {
   "cell_type": "code",
   "execution_count": null,
   "metadata": {},
   "outputs": [],
   "source": [
    "tt.trade_tournament(traders, regulators)"
   ]
  }
 ],
 "metadata": {
  "kernelspec": {
   "display_name": "Python 3",
   "language": "python",
   "name": "python3"
  },
  "language_info": {
   "codemirror_mode": {
    "name": "ipython",
    "version": 3
   },
   "file_extension": ".py",
   "mimetype": "text/x-python",
   "name": "python",
   "nbconvert_exporter": "python",
   "pygments_lexer": "ipython3",
   "version": "3.9.2"
  },
  "orig_nbformat": 4,
  "vscode": {
   "interpreter": {
    "hash": "916dbcbb3f70747c44a77c7bcd40155683ae19c65e1c03b4aa3499c5328201f1"
   }
  }
 },
 "nbformat": 4,
 "nbformat_minor": 2
}
