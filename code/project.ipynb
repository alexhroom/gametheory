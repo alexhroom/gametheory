{
 "cells": [
  {
   "attachments": {},
   "cell_type": "markdown",
   "metadata": {},
   "source": [
    "# Trading Game tournament\n",
    "\n",
    "This notebook runs a tournament for an asymmetric trading game, using the Axelrod library.\n",
    "\n",
    "The game consists of two players, a trader $\\mathcal{T}$ and a regulator $\\mathcal{R}$. \n",
    "\n",
    "The trader can either do a regular trade, $\\mathcal{T}_r$ which has a small reward and no risk of being caught by the regulator, or an inside trade $\\mathcal{T}_I$ which has a much higher reward but, if caught by the regulator, will lead to harsh penalties.\n",
    "\n",
    "The regulator can choose not to regulate $\\mathcal{R}_n$, which has a small benefit if no inside trading takes place (as they're doing their job properly) and a penalty if inside trading is taking place (as inside trading has been detected, but they don't know who's doing it!). Or, they can regulate $\\mathcal{R}_r$, which has a financial cost if done when unnecessary, but a reward if they catch an inside trader."
   ]
  },
  {
   "cell_type": "code",
   "execution_count": null,
   "metadata": {},
   "outputs": [],
   "source": [
    "import axelrod as axl\n",
    "import numpy as np\n",
    "\n",
    "# local files\n",
    "import trade_tournament as tt\n",
    "import trade_strategy as ts\n",
    "from asymmetric_game import AsymmetricGame"
   ]
  },
  {
   "cell_type": "code",
   "execution_count": null,
   "metadata": {},
   "outputs": [],
   "source": [
    "T = np.array([\n",
    "    [1, 1],\n",
    "    [6, -10]\n",
    "    ])\n",
    "\n",
    "R = np.array([\n",
    "    [1, -1],\n",
    "    [-3, 5]\n",
    "    ])\n",
    "\n",
    "trade_game = AsymmetricGame(T, R)"
   ]
  },
  {
   "attachments": {},
   "cell_type": "markdown",
   "metadata": {},
   "source": [
    "In this cell, input trading strategies into the `traders` list, and regulation strategies into the `regulators` list. Some of these are from the Axelrod library, and others are from the file trade_strategy.py in this folder."
   ]
  },
  {
   "cell_type": "code",
   "execution_count": null,
   "metadata": {},
   "outputs": [],
   "source": [
    "traders = [axl.Cooperator(), axl.TitFor2Tats(), ts.Careful(), axl.Random(0.75), ts.NceBitten(1), ts.NceBitten(5)]\n",
    "regulators = [ts.SuspiciousForgiving(), ts.SuspiciousGrudge(), axl.Random(0.5), axl.Random(0.2), ts.Grudge()]"
   ]
  },
  {
   "attachments": {},
   "cell_type": "markdown",
   "metadata": {},
   "source": [
    "Finally, run this block to run the tournament."
   ]
  },
  {
   "cell_type": "code",
   "execution_count": null,
   "metadata": {},
   "outputs": [],
   "source": [
    "tt.trade_tournament(traders, regulators, trade_game)"
   ]
  },
  {
   "attachments": {},
   "cell_type": "markdown",
   "metadata": {},
   "source": [
    "We additionally can use this game to simulate the \"paired Moran process\", which works as follows:\n",
    "\n",
    "Let $P_1$, $P_2$ be two populations; $P_1$ of row players, and $P_2$ of column players. Then the paired Moran process algorithm begins:\n",
    "\n",
    "1. Calculate the fitness of each member of each population against the *other* population. For example, for the Hawk-Dove game if $P_1$ = {2 hawk, 1 dove} and $P_2$ = {1 hawk, 2 dove}, the fitness of the dove in $P_1$ is calculated based on the game outcomes against the 1 hawk and 2 doves in $P_2$.\n",
    "\n",
    "2. Birth and death for each population is then calculated from these fitnesses in the same way as the regular Moran process. This is done independently for each population (e.g. 1 birth and 1 death in $P_1$, *and* 1 birth and 1 death in $P_2$)\n",
    "\n",
    "3. Repeat until each population are homogeneous.\n",
    "\n",
    "This allows us to use the Moran process to study emergent behaviour where competition between *every* member of a population is unfeasible - for example, in our application, the traders are not playing between themselves, and neither are the regulators; furthermore, the best strategies for trading vs regulating will not be the same strategy (as they have different payoff matrices!)\n",
    "\n",
    "We simulate it by running an Axelrod tournament at each step, and then using that for each players' utilities."
   ]
  },
  {
   "cell_type": "code",
   "execution_count": null,
   "metadata": {},
   "outputs": [],
   "source": [
    "import paired_moran as pm\n",
    "\n",
    "pm.paired_moran(traders, regulators, trade_game)"
   ]
  }
 ],
 "metadata": {
  "kernelspec": {
   "display_name": "Python 3",
   "language": "python",
   "name": "python3"
  },
  "language_info": {
   "codemirror_mode": {
    "name": "ipython",
    "version": 3
   },
   "file_extension": ".py",
   "mimetype": "text/x-python",
   "name": "python",
   "nbconvert_exporter": "python",
   "pygments_lexer": "ipython3",
   "version": "3.9.2 (default, Feb 28 2021, 17:03:44) \n[GCC 10.2.1 20210110]"
  },
  "orig_nbformat": 4,
  "vscode": {
   "interpreter": {
    "hash": "916dbcbb3f70747c44a77c7bcd40155683ae19c65e1c03b4aa3499c5328201f1"
   }
  }
 },
 "nbformat": 4,
 "nbformat_minor": 2
}
